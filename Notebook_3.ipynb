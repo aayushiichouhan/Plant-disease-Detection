{
 "cells": [
  {
   "cell_type": "code",
   "execution_count": 1,
   "metadata": {
    "execution": {
     "iopub.execute_input": "2022-12-24T14:32:45.643920Z",
     "iopub.status.busy": "2022-12-24T14:32:45.643535Z",
     "iopub.status.idle": "2022-12-24T14:32:52.754730Z",
     "shell.execute_reply": "2022-12-24T14:32:52.753770Z",
     "shell.execute_reply.started": "2022-12-24T14:32:45.643887Z"
    }
   },
   "outputs": [],
   "source": [
    "import pandas as pd\n",
    "import pathlib\n",
    "import tensorflow as tf\n",
    "import matplotlib.pyplot as plt\n",
    "import numpy as np\n",
    "import os\n",
    "import PIL\n",
    "import glob\n",
    "from tensorflow import keras\n",
    "from tensorflow.keras import layers\n",
    "from tensorflow.keras.models import Sequential\n",
    "from tensorflow.keras.preprocessing import image_dataset_from_directory\n",
    "from tensorflow.keras.layers import Conv2D, MaxPooling2D, Activation, Flatten, Dense, Dropout, BatchNormalization\n",
    "from tensorflow.keras.losses import SparseCategoricalCrossentropy\n",
    "from tensorflow.keras.regularizers import l2\n",
    "import os\n",
    "\n",
    "%matplotlib inline\n",
    "from glob import glob\n",
    "import seaborn as sns\n",
    "from PIL import Image\n",
    "np.random.seed(11) \n",
    "from sklearn.preprocessing import StandardScaler \n",
    "from sklearn.model_selection import train_test_split, KFold, cross_val_score, GridSearchCV\n",
    "from sklearn.metrics import accuracy_score\n",
    "import itertools\n",
    "\n",
    "import keras\n",
    "from keras.utils.np_utils import to_categorical # used for converting labels to one-hot-encoding\n",
    "from keras.models import Sequential, Model\n",
    "from keras.layers import Dense, Dropout, Flatten, Conv2D, MaxPool2D\n",
    "from keras import backend as K\n",
    "from tensorflow.keras.layers import BatchNormalization\n",
    "from tensorflow.keras.optimizers import Adam, RMSprop\n",
    "from keras.preprocessing.image import ImageDataGenerator\n",
    "from keras.callbacks import ReduceLROnPlateau\n",
    "from keras.wrappers.scikit_learn import KerasClassifier\n",
    "from keras.applications.inception_v3 import InceptionV3\n",
    "from keras import backend as K \n",
    "import random\n",
    "import urllib.request\n",
    "import matplotlib.image as mpimg\n",
    "\n",
    "from skimage.filters import rank, threshold_otsu\n",
    "from skimage import io\n",
    "from skimage.color import rgb2gray\n",
    "from sklearn.cluster import KMeans\n",
    "from skimage.morphology import closing, square, disk"
   ]
  },
  {
   "cell_type": "markdown",
   "metadata": {},
   "source": [
    "# Loading Data"
   ]
  },
  {
   "cell_type": "code",
   "execution_count": 2,
   "metadata": {
    "execution": {
     "iopub.execute_input": "2022-12-24T14:32:52.757692Z",
     "iopub.status.busy": "2022-12-24T14:32:52.756690Z",
     "iopub.status.idle": "2022-12-24T14:32:52.766776Z",
     "shell.execute_reply": "2022-12-24T14:32:52.764698Z",
     "shell.execute_reply.started": "2022-12-24T14:32:52.757653Z"
    }
   },
   "outputs": [],
   "source": [
    "# Defining the path for train and test images\n",
    "data_dir = pathlib.Path(\"C:/Users/Mohini/Desktop/plantvillage dataset/color\")\n",
    "train='C:/Users/Mohini/Desktop/plantvillage dataset/color'"
   ]
  },
  {
   "cell_type": "code",
   "execution_count": 3,
   "metadata": {
    "execution": {
     "iopub.execute_input": "2022-12-24T14:32:52.769008Z",
     "iopub.status.busy": "2022-12-24T14:32:52.768598Z",
     "iopub.status.idle": "2022-12-24T14:32:52.795273Z",
     "shell.execute_reply": "2022-12-24T14:32:52.793507Z",
     "shell.execute_reply.started": "2022-12-24T14:32:52.768966Z"
    }
   },
   "outputs": [
    {
     "name": "stdout",
     "output_type": "stream",
     "text": [
      "['Apple___Apple_scab', 'Apple___Black_rot', 'Apple___Cedar_apple_rust', 'Apple___healthy', 'Blueberry___healthy', 'Cherry_(including_sour)___healthy', 'Cherry_(including_sour)___Powdery_mildew', 'Corn_(maize)___Cercospora_leaf_spot Gray_leaf_spot', 'Corn_(maize)___Common_rust_', 'Corn_(maize)___healthy', 'Corn_(maize)___Northern_Leaf_Blight', 'Grape___Black_rot', 'Grape___Esca_(Black_Measles)', 'Grape___healthy', 'Grape___Leaf_blight_(Isariopsis_Leaf_Spot)', 'Orange___Haunglongbing_(Citrus_greening)', 'Peach___Bacterial_spot', 'Peach___healthy', 'Pepper,_bell___Bacterial_spot', 'Pepper,_bell___healthy', 'Potato___Early_blight', 'Potato___healthy', 'Potato___Late_blight', 'Raspberry___healthy', 'Soybean___healthy', 'Squash___Powdery_mildew', 'Strawberry___healthy', 'Strawberry___Leaf_scorch', 'Tomato___Bacterial_spot', 'Tomato___Early_blight', 'Tomato___healthy', 'Tomato___Late_blight', 'Tomato___Leaf_Mold', 'Tomato___Septoria_leaf_spot', 'Tomato___Spider_mites Two-spotted_spider_mite', 'Tomato___Target_Spot', 'Tomato___Tomato_mosaic_virus', 'Tomato___Tomato_Yellow_Leaf_Curl_Virus']\n",
      "Types of classes labels found:  38\n"
     ]
    }
   ],
   "source": [
    "# Here we have two classes.\n",
    "dataset_path_train = os.listdir(data_dir)\n",
    "print (dataset_path_train)\n",
    "print(\"Types of classes labels found: \", len(dataset_path_train))"
   ]
  },
  {
   "cell_type": "code",
   "execution_count": 4,
   "metadata": {
    "execution": {
     "iopub.execute_input": "2022-12-24T14:32:52.799404Z",
     "iopub.status.busy": "2022-12-24T14:32:52.799151Z",
     "iopub.status.idle": "2022-12-24T14:32:57.368225Z",
     "shell.execute_reply": "2022-12-24T14:32:57.367102Z",
     "shell.execute_reply.started": "2022-12-24T14:32:52.799380Z"
    }
   },
   "outputs": [
    {
     "name": "stdout",
     "output_type": "stream",
     "text": [
      "The number of Train data: 54303\n"
     ]
    }
   ],
   "source": [
    "image_count_train = len(list(data_dir.glob('*/*.JPG')))\n",
    "print(\"The number of Train data:\",image_count_train)"
   ]
  },
  {
   "cell_type": "code",
   "execution_count": 5,
   "metadata": {
    "execution": {
     "iopub.execute_input": "2022-12-24T14:32:57.370307Z",
     "iopub.status.busy": "2022-12-24T14:32:57.369630Z",
     "iopub.status.idle": "2022-12-24T14:32:57.375675Z",
     "shell.execute_reply": "2022-12-24T14:32:57.374458Z",
     "shell.execute_reply.started": "2022-12-24T14:32:57.370266Z"
    }
   },
   "outputs": [],
   "source": [
    "# This Parameter we can use it in the network and model\n",
    "batch_size = 32\n",
    "img_height = 224\n",
    "img_width = 224"
   ]
  },
  {
   "cell_type": "code",
   "execution_count": 6,
   "metadata": {
    "execution": {
     "iopub.execute_input": "2022-12-24T14:32:57.377582Z",
     "iopub.status.busy": "2022-12-24T14:32:57.376986Z",
     "iopub.status.idle": "2022-12-24T14:33:32.859723Z",
     "shell.execute_reply": "2022-12-24T14:33:32.858748Z",
     "shell.execute_reply.started": "2022-12-24T14:32:57.377548Z"
    }
   },
   "outputs": [
    {
     "name": "stdout",
     "output_type": "stream",
     "text": [
      "Found 54305 files belonging to 38 classes.\n",
      "Using 43444 files for training.\n"
     ]
    }
   ],
   "source": [
    "# For train data set\n",
    "train_ds = image_dataset_from_directory(data_dir, \n",
    "                                        seed = 123, \n",
    "                                        image_size=(img_height, img_width), \n",
    "                                        validation_split=0.2, \n",
    "                                        subset='training')"
   ]
  },
  {
   "cell_type": "code",
   "execution_count": 7,
   "metadata": {
    "execution": {
     "iopub.execute_input": "2022-12-24T14:33:32.861884Z",
     "iopub.status.busy": "2022-12-24T14:33:32.861147Z",
     "iopub.status.idle": "2022-12-24T14:33:42.295001Z",
     "shell.execute_reply": "2022-12-24T14:33:42.294018Z",
     "shell.execute_reply.started": "2022-12-24T14:33:32.861848Z"
    }
   },
   "outputs": [
    {
     "name": "stdout",
     "output_type": "stream",
     "text": [
      "Found 54305 files belonging to 38 classes.\n",
      "Using 10861 files for validation.\n"
     ]
    }
   ],
   "source": [
    "# here we can put the validate data\n",
    "val_ds = image_dataset_from_directory(data_dir, \n",
    "                                      seed = 123, \n",
    "                                      image_size=(img_height, img_width), \n",
    "                                      validation_split=0.2, \n",
    "                                      subset='validation')"
   ]
  },
  {
   "cell_type": "code",
   "execution_count": 8,
   "metadata": {
    "execution": {
     "iopub.execute_input": "2022-12-24T14:33:42.296975Z",
     "iopub.status.busy": "2022-12-24T14:33:42.296589Z",
     "iopub.status.idle": "2022-12-24T14:33:52.263442Z",
     "shell.execute_reply": "2022-12-24T14:33:52.262506Z",
     "shell.execute_reply.started": "2022-12-24T14:33:42.296937Z"
    }
   },
   "outputs": [
    {
     "name": "stdout",
     "output_type": "stream",
     "text": [
      "Found 54305 files belonging to 38 classes.\n"
     ]
    }
   ],
   "source": [
    "# here we can put the validate data\n",
    "test = image_dataset_from_directory(data_dir, \n",
    "                                      seed = 123, \n",
    "                                      image_size=(img_height, img_width), \n",
    "                                      validation_split=None)"
   ]
  },
  {
   "cell_type": "code",
   "execution_count": 9,
   "metadata": {
    "execution": {
     "iopub.execute_input": "2022-12-24T14:33:52.265405Z",
     "iopub.status.busy": "2022-12-24T14:33:52.265022Z",
     "iopub.status.idle": "2022-12-24T14:33:52.272615Z",
     "shell.execute_reply": "2022-12-24T14:33:52.271451Z",
     "shell.execute_reply.started": "2022-12-24T14:33:52.265368Z"
    }
   },
   "outputs": [
    {
     "name": "stdout",
     "output_type": "stream",
     "text": [
      "38\n",
      "['Apple___Apple_scab', 'Apple___Black_rot', 'Apple___Cedar_apple_rust', 'Apple___healthy', 'Blueberry___healthy', 'Cherry_(including_sour)___Powdery_mildew', 'Cherry_(including_sour)___healthy', 'Corn_(maize)___Cercospora_leaf_spot Gray_leaf_spot', 'Corn_(maize)___Common_rust_', 'Corn_(maize)___Northern_Leaf_Blight', 'Corn_(maize)___healthy', 'Grape___Black_rot', 'Grape___Esca_(Black_Measles)', 'Grape___Leaf_blight_(Isariopsis_Leaf_Spot)', 'Grape___healthy', 'Orange___Haunglongbing_(Citrus_greening)', 'Peach___Bacterial_spot', 'Peach___healthy', 'Pepper,_bell___Bacterial_spot', 'Pepper,_bell___healthy', 'Potato___Early_blight', 'Potato___Late_blight', 'Potato___healthy', 'Raspberry___healthy', 'Soybean___healthy', 'Squash___Powdery_mildew', 'Strawberry___Leaf_scorch', 'Strawberry___healthy', 'Tomato___Bacterial_spot', 'Tomato___Early_blight', 'Tomato___Late_blight', 'Tomato___Leaf_Mold', 'Tomato___Septoria_leaf_spot', 'Tomato___Spider_mites Two-spotted_spider_mite', 'Tomato___Target_Spot', 'Tomato___Tomato_Yellow_Leaf_Curl_Virus', 'Tomato___Tomato_mosaic_virus', 'Tomato___healthy']\n"
     ]
    }
   ],
   "source": [
    "# Here We give the name of the data the we found the Benign dataset and malignant\n",
    "class_names = train_ds.class_names\n",
    "print(len(class_names))\n",
    "print( class_names)\n"
   ]
  },
  {
   "cell_type": "code",
   "execution_count": 10,
   "metadata": {
    "execution": {
     "iopub.execute_input": "2022-12-24T14:33:52.278215Z",
     "iopub.status.busy": "2022-12-24T14:33:52.277586Z",
     "iopub.status.idle": "2022-12-24T14:33:53.225107Z",
     "shell.execute_reply": "2022-12-24T14:33:53.223955Z",
     "shell.execute_reply.started": "2022-12-24T14:33:52.278188Z"
    }
   },
   "outputs": [
    {
     "name": "stdout",
     "output_type": "stream",
     "text": [
      "(32, 224, 224, 3)\n",
      "(32,)\n"
     ]
    }
   ],
   "source": [
    "for image_batch, labels_batch in train_ds.take(1):\n",
    "    print(image_batch.shape)\n",
    "    print(labels_batch.shape)"
   ]
  },
  {
   "cell_type": "markdown",
   "metadata": {},
   "source": [
    "# Creat Model\n"
   ]
  },
  {
   "cell_type": "code",
   "execution_count": 11,
   "metadata": {
    "execution": {
     "iopub.execute_input": "2022-12-24T14:33:53.228491Z",
     "iopub.status.busy": "2022-12-24T14:33:53.227854Z",
     "iopub.status.idle": "2022-12-24T14:33:53.336286Z",
     "shell.execute_reply": "2022-12-24T14:33:53.335328Z",
     "shell.execute_reply.started": "2022-12-24T14:33:53.228448Z"
    }
   },
   "outputs": [],
   "source": [
    "num_classes = 38\n",
    "\n",
    "# Building model with data augmentation and drop out layers\n",
    "# Model building - Data augmentation -> Rescaling -> Conv2D -> MaxPooling2D -> Conv2D -> MaxPooling2D -> Conv2D -> MaxPooling2D -> Dropout -> Dense -> Dense\n",
    "model = Sequential()\n",
    "model.add(layers.experimental.preprocessing.Rescaling(1./255, input_shape=(img_height, img_width, 3)))\n",
    "model.add(Conv2D(16, 3, padding='same'))\n",
    "model.add(Activation('relu'))\n",
    "model.add(MaxPooling2D())\n",
    "\n",
    "model.add(Conv2D(32, 3, padding='same'))\n",
    "model.add(Activation('relu'))\n",
    "model.add(MaxPooling2D())\n",
    "\n",
    "model.add(Conv2D(64, 3, padding='same'))\n",
    "model.add(Activation('relu'))\n",
    "model.add(MaxPooling2D())\n",
    "model.add(Dropout(0.15))\n",
    "\n",
    "model.add(Flatten())\n",
    "model.add(Dense(128))\n",
    "model.add(Activation('relu'))\n",
    "model.add(Dense(num_classes))"
   ]
  },
  {
   "cell_type": "code",
   "execution_count": 12,
   "metadata": {
    "execution": {
     "iopub.execute_input": "2022-12-24T14:33:53.338026Z",
     "iopub.status.busy": "2022-12-24T14:33:53.337606Z",
     "iopub.status.idle": "2022-12-24T14:33:53.352896Z",
     "shell.execute_reply": "2022-12-24T14:33:53.352073Z",
     "shell.execute_reply.started": "2022-12-24T14:33:53.337990Z"
    }
   },
   "outputs": [],
   "source": [
    "# Compile the model \n",
    "\n",
    "## Your code goes here\n",
    "model.compile(optimizer='adam',\n",
    "              loss=SparseCategoricalCrossentropy(from_logits=True),\n",
    "              metrics=['accuracy'])"
   ]
  },
  {
   "cell_type": "code",
   "execution_count": 13,
   "metadata": {
    "execution": {
     "iopub.execute_input": "2022-12-24T14:33:53.354474Z",
     "iopub.status.busy": "2022-12-24T14:33:53.354116Z",
     "iopub.status.idle": "2022-12-24T14:33:53.361266Z",
     "shell.execute_reply": "2022-12-24T14:33:53.360235Z",
     "shell.execute_reply.started": "2022-12-24T14:33:53.354436Z"
    }
   },
   "outputs": [
    {
     "name": "stdout",
     "output_type": "stream",
     "text": [
      "Model: \"sequential\"\n",
      "_________________________________________________________________\n",
      " Layer (type)                Output Shape              Param #   \n",
      "=================================================================\n",
      " rescaling (Rescaling)       (None, 224, 224, 3)       0         \n",
      "                                                                 \n",
      " conv2d (Conv2D)             (None, 224, 224, 16)      448       \n",
      "                                                                 \n",
      " activation (Activation)     (None, 224, 224, 16)      0         \n",
      "                                                                 \n",
      " max_pooling2d (MaxPooling2D  (None, 112, 112, 16)     0         \n",
      " )                                                               \n",
      "                                                                 \n",
      " conv2d_1 (Conv2D)           (None, 112, 112, 32)      4640      \n",
      "                                                                 \n",
      " activation_1 (Activation)   (None, 112, 112, 32)      0         \n",
      "                                                                 \n",
      " max_pooling2d_1 (MaxPooling  (None, 56, 56, 32)       0         \n",
      " 2D)                                                             \n",
      "                                                                 \n",
      " conv2d_2 (Conv2D)           (None, 56, 56, 64)        18496     \n",
      "                                                                 \n",
      " activation_2 (Activation)   (None, 56, 56, 64)        0         \n",
      "                                                                 \n",
      " max_pooling2d_2 (MaxPooling  (None, 28, 28, 64)       0         \n",
      " 2D)                                                             \n",
      "                                                                 \n",
      " dropout (Dropout)           (None, 28, 28, 64)        0         \n",
      "                                                                 \n",
      " flatten (Flatten)           (None, 50176)             0         \n",
      "                                                                 \n",
      " dense (Dense)               (None, 128)               6422656   \n",
      "                                                                 \n",
      " activation_3 (Activation)   (None, 128)               0         \n",
      "                                                                 \n",
      " dense_1 (Dense)             (None, 38)                4902      \n",
      "                                                                 \n",
      "=================================================================\n",
      "Total params: 6,451,142\n",
      "Trainable params: 6,451,142\n",
      "Non-trainable params: 0\n",
      "_________________________________________________________________\n"
     ]
    }
   ],
   "source": [
    "model.summary()"
   ]
  },
  {
   "cell_type": "code",
   "execution_count": 14,
   "metadata": {
    "execution": {
     "iopub.execute_input": "2022-12-24T14:33:53.363404Z",
     "iopub.status.busy": "2022-12-24T14:33:53.362769Z",
     "iopub.status.idle": "2022-12-24T14:33:54.363370Z",
     "shell.execute_reply": "2022-12-24T14:33:54.362214Z",
     "shell.execute_reply.started": "2022-12-24T14:33:53.363369Z"
    }
   },
   "outputs": [
    {
     "name": "stdout",
     "output_type": "stream",
     "text": [
      "You must install pydot (`pip install pydot`) and install graphviz (see instructions at https://graphviz.gitlab.io/download/) for plot_model/model_to_dot to work.\n"
     ]
    }
   ],
   "source": [
    "from tensorflow.keras.utils import to_categorical, plot_model\n",
    "plot_model(model, to_file='cnn-mnist.png', show_shapes=True)"
   ]
  },
  {
   "cell_type": "code",
   "execution_count": null,
   "metadata": {
    "execution": {
     "iopub.execute_input": "2022-12-24T14:33:54.365171Z",
     "iopub.status.busy": "2022-12-24T14:33:54.364824Z",
     "iopub.status.idle": "2022-12-24T14:48:43.092363Z",
     "shell.execute_reply": "2022-12-24T14:48:43.091392Z",
     "shell.execute_reply.started": "2022-12-24T14:33:54.365138Z"
    }
   },
   "outputs": [
    {
     "name": "stdout",
     "output_type": "stream",
     "text": [
      "Epoch 1/10\n",
      "1358/1358 [==============================] - 1700s 1s/step - loss: 0.9541 - accuracy: 0.7260 - val_loss: 0.4299 - val_accuracy: 0.8710\n",
      "Epoch 2/10\n",
      "1358/1358 [==============================] - 1365s 1s/step - loss: 0.3472 - accuracy: 0.8904 - val_loss: 0.3200 - val_accuracy: 0.9037\n",
      "Epoch 3/10\n",
      "1358/1358 [==============================] - 1198s 882ms/step - loss: 0.1951 - accuracy: 0.9360 - val_loss: 0.3641 - val_accuracy: 0.8951\n",
      "Epoch 4/10\n",
      "1358/1358 [==============================] - 1173s 863ms/step - loss: 0.1243 - accuracy: 0.9589 - val_loss: 0.4828 - val_accuracy: 0.8719\n",
      "Epoch 5/10\n",
      "1358/1358 [==============================] - 1174s 864ms/step - loss: 0.0942 - accuracy: 0.9692 - val_loss: 0.3032 - val_accuracy: 0.9182\n",
      "Epoch 6/10\n",
      "1358/1358 [==============================] - 1167s 859ms/step - loss: 0.0834 - accuracy: 0.9727 - val_loss: 0.2731 - val_accuracy: 0.9285\n",
      "Epoch 7/10\n",
      "1148/1358 [========================>.....] - ETA: 2:47 - loss: 0.0625 - accuracy: 0.9788"
     ]
    }
   ],
   "source": [
    "epochs = 10\n",
    "\n",
    "history = model.fit(\n",
    "  train_ds,\n",
    "  validation_data=val_ds,\n",
    "  epochs=epochs\n",
    ")"
   ]
  },
  {
   "cell_type": "code",
   "execution_count": null,
   "metadata": {
    "execution": {
     "iopub.execute_input": "2022-12-24T14:48:43.422947Z",
     "iopub.status.busy": "2022-12-24T14:48:43.421938Z",
     "iopub.status.idle": "2022-12-24T14:48:57.421054Z",
     "shell.execute_reply": "2022-12-24T14:48:57.420145Z",
     "shell.execute_reply.started": "2022-12-24T14:48:43.422909Z"
    }
   },
   "outputs": [],
   "source": [
    "performance = model.evaluate(val_ds)"
   ]
  },
  {
   "cell_type": "code",
   "execution_count": null,
   "metadata": {
    "execution": {
     "iopub.execute_input": "2022-12-24T14:48:57.423201Z",
     "iopub.status.busy": "2022-12-24T14:48:57.422827Z",
     "iopub.status.idle": "2022-12-24T14:48:57.430146Z",
     "shell.execute_reply": "2022-12-24T14:48:57.428936Z",
     "shell.execute_reply.started": "2022-12-24T14:48:57.423164Z"
    }
   },
   "outputs": [],
   "source": [
    "performance"
   ]
  },
  {
   "cell_type": "code",
   "execution_count": null,
   "metadata": {
    "execution": {
     "iopub.execute_input": "2022-12-24T14:48:57.641660Z",
     "iopub.status.busy": "2022-12-24T14:48:57.641065Z",
     "iopub.status.idle": "2022-12-24T14:48:57.840592Z",
     "shell.execute_reply": "2022-12-24T14:48:57.839657Z",
     "shell.execute_reply.started": "2022-12-24T14:48:57.641622Z"
    }
   },
   "outputs": [],
   "source": [
    "plt.figure(figsize=(12, 7))\n",
    "\n",
    "plt.plot(range(no_of_epochs), loss, label='Training Loss')\n",
    "plt.plot(range(no_of_epochs), val_loss, label='Validation Loss')\n",
    "\n",
    "plt.legend()\n",
    "plt.show()"
   ]
  },
  {
   "cell_type": "code",
   "execution_count": null,
   "metadata": {},
   "outputs": [],
   "source": []
  },
  {
   "cell_type": "code",
   "execution_count": null,
   "metadata": {
    "execution": {
     "iopub.execute_input": "2022-12-24T14:48:57.842561Z",
     "iopub.status.busy": "2022-12-24T14:48:57.841956Z",
     "iopub.status.idle": "2022-12-24T14:48:58.548260Z",
     "shell.execute_reply": "2022-12-24T14:48:58.546982Z",
     "shell.execute_reply.started": "2022-12-24T14:48:57.842524Z"
    }
   },
   "outputs": [],
   "source": [
    "labels = train_ds.class_names\n",
    "labels\n",
    "for images_batch, labels_batch in test.take(1):\n",
    "    \n",
    "    image = images_batch[0].numpy().astype('uint8')\n",
    "    label = labels_batch[0].numpy()\n",
    "    \n",
    "    plt.imshow(image)\n",
    "    print(\"actual label:\", labels[label])\n",
    "    \n",
    "    batch_prediction = model.predict(images_batch)\n",
    "    print(\"predicted label:\", labels[np.argmax(batch_prediction[0])])"
   ]
  },
  {
   "cell_type": "code",
   "execution_count": null,
   "metadata": {
    "execution": {
     "iopub.execute_input": "2022-12-24T14:48:58.553322Z",
     "iopub.status.busy": "2022-12-24T14:48:58.552839Z",
     "iopub.status.idle": "2022-12-24T14:48:58.565457Z",
     "shell.execute_reply": "2022-12-24T14:48:58.559794Z",
     "shell.execute_reply.started": "2022-12-24T14:48:58.553278Z"
    }
   },
   "outputs": [],
   "source": [
    "from tensorflow import expand_dims, newaxis\n",
    "\n",
    "def predict(model, img):\n",
    "    \n",
    "    img_array = img.numpy()\n",
    "    img_array = expand_dims(img_array, 0)\n",
    "\n",
    "    predictions = model.predict(img_array)\n",
    "\n",
    "    predicted_class = labels[np.argmax(predictions[0])]\n",
    "    confidence = round( (np.max(predictions[0])), 2)\n",
    "    \n",
    "    return predicted_class, confidence"
   ]
  },
  {
   "cell_type": "code",
   "execution_count": null,
   "metadata": {
    "execution": {
     "iopub.execute_input": "2022-12-24T14:48:58.567763Z",
     "iopub.status.busy": "2022-12-24T14:48:58.566560Z",
     "iopub.status.idle": "2022-12-24T14:49:00.451126Z",
     "shell.execute_reply": "2022-12-24T14:49:00.449799Z",
     "shell.execute_reply.started": "2022-12-24T14:48:58.567702Z"
    }
   },
   "outputs": [],
   "source": [
    "plt.figure(figsize=(15, 15))\n",
    "\n",
    "for images, lbs in val_ds.take(1):\n",
    "    for i in range(9):\n",
    "        \n",
    "        plt.subplot(3, 3, i + 1)\n",
    "        plt.imshow(images[i].numpy().astype(\"uint32\"))\n",
    "        \n",
    "        predicted_class, confidence = predict(model, images[i])\n",
    "        actual_class = labels[lbs[i]] \n",
    "        \n",
    "        plt.title(f\"Actual: {actual_class},\\n Predicted: {predicted_class}.\\n Confidence: {confidence}%\")\n",
    "        \n",
    "        plt.axis(\"off\")"
   ]
  },
  {
   "cell_type": "code",
   "execution_count": null,
   "metadata": {
    "execution": {
     "iopub.execute_input": "2022-12-24T14:49:00.453146Z",
     "iopub.status.busy": "2022-12-24T14:49:00.452565Z",
     "iopub.status.idle": "2022-12-24T14:49:00.634497Z",
     "shell.execute_reply": "2022-12-24T14:49:00.633494Z",
     "shell.execute_reply.started": "2022-12-24T14:49:00.453110Z"
    }
   },
   "outputs": [],
   "source": [
    "model.save(\"Model.h5\")"
   ]
  },
  {
   "cell_type": "code",
   "execution_count": null,
   "metadata": {},
   "outputs": [],
   "source": []
  }
 ],
 "metadata": {
  "kernelspec": {
   "display_name": "Python 3",
   "language": "python",
   "name": "python3"
  },
  "language_info": {
   "codemirror_mode": {
    "name": "ipython",
    "version": 3
   },
   "file_extension": ".py",
   "mimetype": "text/x-python",
   "name": "python",
   "nbconvert_exporter": "python",
   "pygments_lexer": "ipython3",
   "version": "3.8.8"
  }
 },
 "nbformat": 4,
 "nbformat_minor": 4
}
